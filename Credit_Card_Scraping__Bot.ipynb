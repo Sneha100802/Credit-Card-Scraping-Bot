{
  "nbformat": 4,
  "nbformat_minor": 0,
  "metadata": {
    "colab": {
      "provenance": []
    },
    "kernelspec": {
      "name": "python3",
      "display_name": "Python 3"
    },
    "language_info": {
      "name": "python"
    }
  },
  "cells": [
    {
      "cell_type": "code",
      "source": [
        "!pip install requests beautifulsoup4 pandas openpyxl PyPDF2\n"
      ],
      "metadata": {
        "colab": {
          "base_uri": "https://localhost:8080/"
        },
        "id": "RraDb4twoOKj",
        "outputId": "f1dcd786-f103-4077-b6ea-825cd89f0f4c"
      },
      "execution_count": 1,
      "outputs": [
        {
          "output_type": "stream",
          "name": "stdout",
          "text": [
            "Requirement already satisfied: requests in /usr/local/lib/python3.11/dist-packages (2.32.3)\n",
            "Requirement already satisfied: beautifulsoup4 in /usr/local/lib/python3.11/dist-packages (4.13.4)\n",
            "Requirement already satisfied: pandas in /usr/local/lib/python3.11/dist-packages (2.2.2)\n",
            "Requirement already satisfied: openpyxl in /usr/local/lib/python3.11/dist-packages (3.1.5)\n",
            "Collecting PyPDF2\n",
            "  Downloading pypdf2-3.0.1-py3-none-any.whl.metadata (6.8 kB)\n",
            "Requirement already satisfied: charset-normalizer<4,>=2 in /usr/local/lib/python3.11/dist-packages (from requests) (3.4.1)\n",
            "Requirement already satisfied: idna<4,>=2.5 in /usr/local/lib/python3.11/dist-packages (from requests) (3.10)\n",
            "Requirement already satisfied: urllib3<3,>=1.21.1 in /usr/local/lib/python3.11/dist-packages (from requests) (2.4.0)\n",
            "Requirement already satisfied: certifi>=2017.4.17 in /usr/local/lib/python3.11/dist-packages (from requests) (2025.4.26)\n",
            "Requirement already satisfied: soupsieve>1.2 in /usr/local/lib/python3.11/dist-packages (from beautifulsoup4) (2.7)\n",
            "Requirement already satisfied: typing-extensions>=4.0.0 in /usr/local/lib/python3.11/dist-packages (from beautifulsoup4) (4.13.2)\n",
            "Requirement already satisfied: numpy>=1.23.2 in /usr/local/lib/python3.11/dist-packages (from pandas) (2.0.2)\n",
            "Requirement already satisfied: python-dateutil>=2.8.2 in /usr/local/lib/python3.11/dist-packages (from pandas) (2.9.0.post0)\n",
            "Requirement already satisfied: pytz>=2020.1 in /usr/local/lib/python3.11/dist-packages (from pandas) (2025.2)\n",
            "Requirement already satisfied: tzdata>=2022.7 in /usr/local/lib/python3.11/dist-packages (from pandas) (2025.2)\n",
            "Requirement already satisfied: et-xmlfile in /usr/local/lib/python3.11/dist-packages (from openpyxl) (2.0.0)\n",
            "Requirement already satisfied: six>=1.5 in /usr/local/lib/python3.11/dist-packages (from python-dateutil>=2.8.2->pandas) (1.17.0)\n",
            "Downloading pypdf2-3.0.1-py3-none-any.whl (232 kB)\n",
            "\u001b[2K   \u001b[90m━━━━━━━━━━━━━━━━━━━━━━━━━━━━━━━━━━━━━━━━\u001b[0m \u001b[32m232.6/232.6 kB\u001b[0m \u001b[31m6.0 MB/s\u001b[0m eta \u001b[36m0:00:00\u001b[0m\n",
            "\u001b[?25hInstalling collected packages: PyPDF2\n",
            "Successfully installed PyPDF2-3.0.1\n"
          ]
        }
      ]
    },
    {
      "cell_type": "code",
      "source": [
        "import requests\n",
        "import pandas as pd\n",
        "from bs4 import BeautifulSoup\n",
        "from PyPDF2 import PdfReader\n",
        "import os\n"
      ],
      "metadata": {
        "id": "nOE_f0c5oPPZ"
      },
      "execution_count": 2,
      "outputs": []
    },
    {
      "cell_type": "code",
      "source": [
        "def extract_credit_cards_from_pdf(pdf_path):\n",
        "    with open(pdf_path, 'rb') as f:\n",
        "        reader = PdfReader(f)\n",
        "        num_pages = len(reader.pages)\n",
        "        text = ''\n",
        "        for page in range(num_pages):\n",
        "            text += reader.pages[page].extract_text()\n",
        "    return parse_credit_card_text(text)\n",
        "\n",
        "def parse_credit_card_text(text):\n",
        "    # Simple example: Extracting key terms from the text (e.g., fees, rewards)\n",
        "    cards = []\n",
        "    lines = text.split('\\n')\n",
        "    card_info = {}\n",
        "\n",
        "    for line in lines:\n",
        "        if 'Card Name' in line:\n",
        "            if card_info:\n",
        "                cards.append(card_info)\n",
        "            card_info = {'Card Name': line.split(':')[-1].strip()}\n",
        "        elif 'Joining Fee' in line:\n",
        "            card_info['Joining Fee'] = line.split(':')[-1].strip()\n",
        "        elif 'Annual Fee' in line:\n",
        "            card_info['Annual Fee'] = line.split(':')[-1].strip()\n",
        "        elif 'Rewards' in line:\n",
        "            card_info['Rewards / Cashback'] = line.split(':')[-1].strip()\n",
        "        elif 'Lounge Access' in line:\n",
        "            card_info['Lounge Access'] = line.split(':')[-1].strip()\n",
        "        elif 'Fuel Surcharge' in line:\n",
        "            card_info['Fuel Surcharge Waiver'] = line.split(':')[-1].strip()\n",
        "        elif 'EMI' in line:\n",
        "            card_info['EMI Options'] = line.split(':')[-1].strip()\n",
        "        elif 'Other Features' in line:\n",
        "            card_info.setdefault('Other Features', []).append(line.split(':')[-1].strip())\n",
        "\n",
        "    if card_info:\n",
        "        cards.append(card_info)\n",
        "\n",
        "    return cards\n"
      ],
      "metadata": {
        "id": "IIc0Wol5oQ6Y"
      },
      "execution_count": 3,
      "outputs": []
    },
    {
      "cell_type": "code",
      "source": [
        "def extract_credit_cards_from_website(url):\n",
        "    response = requests.get(url)\n",
        "    soup = BeautifulSoup(response.content, 'html.parser')\n",
        "\n",
        "    cards = []\n",
        "    card_sections = soup.find_all('div', class_='card-details')\n",
        "\n",
        "    for section in card_sections:\n",
        "        card_info = {}\n",
        "\n",
        "        # Extract Card Name\n",
        "        name_tag = section.find('h3')\n",
        "        if name_tag:\n",
        "            card_info['Card Name'] = name_tag.get_text(strip=True)\n",
        "\n",
        "        # Extract Features\n",
        "        features_list = section.find_all('li')\n",
        "        for feature in features_list:\n",
        "            text = feature.get_text(strip=True)\n",
        "            if 'Joining Fee' in text:\n",
        "                card_info['Joining Fee'] = text.split(':')[-1].strip()\n",
        "            elif 'Annual Fee' in text:\n",
        "                card_info['Annual Fee'] = text.split(':')[-1].strip()\n",
        "            elif 'Cashback' in text or 'Reward' in text:\n",
        "                card_info['Rewards / Cashback'] = text\n",
        "            elif 'Lounge' in text:\n",
        "                card_info['Lounge Access'] = text\n",
        "            elif 'Fuel' in text:\n",
        "                card_info['Fuel Surcharge Waiver'] = text\n",
        "            elif 'EMI' in text:\n",
        "                card_info['EMI Options'] = text\n",
        "            else:\n",
        "                card_info.setdefault('Other Features', []).append(text)\n",
        "\n",
        "        # Combine other features into a single string\n",
        "        if 'Other Features' in card_info:\n",
        "            card_info['Other Features'] = '; '.join(card_info['Other Features'])\n",
        "\n",
        "        cards.append(card_info)\n",
        "\n",
        "    return cards\n"
      ],
      "metadata": {
        "id": "Xgg1SifeoSHn"
      },
      "execution_count": 4,
      "outputs": []
    },
    {
      "cell_type": "code",
      "source": [
        "def main():\n",
        "    source_type = input(\"Enter 'pdf' or 'url': \").strip().lower()\n",
        "\n",
        "    if source_type == 'pdf':\n",
        "        pdf_path = input(\"Enter PDF file path: \").strip()\n",
        "        if os.path.exists(pdf_path):\n",
        "            credit_card_data = extract_credit_cards_from_pdf(pdf_path)\n",
        "        else:\n",
        "            print(\"Invalid file path!\")\n",
        "            return\n",
        "\n",
        "    elif source_type == 'url':\n",
        "        url = input(\"Enter website URL: \").strip()\n",
        "        credit_card_data = extract_credit_cards_from_website(url)\n",
        "\n",
        "    else:\n",
        "        print(\"Invalid input. Please enter 'pdf' or 'url'.\")\n",
        "        return\n",
        "\n",
        "    if not credit_card_data:\n",
        "        print(\"No cards found or the structure has changed.\")\n",
        "    else:\n",
        "        df = pd.DataFrame(credit_card_data)\n",
        "        df.to_excel(\"credit_cards.xlsx\", index=False)\n",
        "        print(\"Exported to credit_cards.xlsx ✅\")\n",
        "\n",
        "    # Optional: Save as CSV too\n",
        "    df.to_csv(\"credit_cards.csv\", index=False)\n",
        "    print(\"Also exported to credit_cards.csv ✅\")\n"
      ],
      "metadata": {
        "id": "Rwl2-xNUoTkF"
      },
      "execution_count": 5,
      "outputs": []
    },
    {
      "cell_type": "code",
      "source": [
        "main()\n"
      ],
      "metadata": {
        "colab": {
          "base_uri": "https://localhost:8080/"
        },
        "id": "_7VCcroyoVWo",
        "outputId": "4321cc21-1bd8-4cea-e875-48d6fbf16fe1"
      },
      "execution_count": 8,
      "outputs": [
        {
          "output_type": "stream",
          "name": "stdout",
          "text": [
            "Enter 'pdf' or 'url': url\n",
            "Enter website URL: https://www.hdfcbank.com/personal/pay/cards\n",
            "Exported to credit_cards.xlsx ✅\n",
            "Also exported to credit_cards.csv ✅\n"
          ]
        }
      ]
    },
    {
      "cell_type": "code",
      "source": [
        "from google.colab import files\n",
        "\n",
        "# Download the exported files\n",
        "files.download(\"credit_cards.xlsx\")\n",
        "files.download(\"credit_cards.csv\")\n"
      ],
      "metadata": {
        "colab": {
          "base_uri": "https://localhost:8080/",
          "height": 17
        },
        "id": "B9BW4tPvpIma",
        "outputId": "d3a81eae-ed54-4604-9ea7-65a189a9874e"
      },
      "execution_count": 9,
      "outputs": [
        {
          "output_type": "display_data",
          "data": {
            "text/plain": [
              "<IPython.core.display.Javascript object>"
            ],
            "application/javascript": [
              "\n",
              "    async function download(id, filename, size) {\n",
              "      if (!google.colab.kernel.accessAllowed) {\n",
              "        return;\n",
              "      }\n",
              "      const div = document.createElement('div');\n",
              "      const label = document.createElement('label');\n",
              "      label.textContent = `Downloading \"${filename}\": `;\n",
              "      div.appendChild(label);\n",
              "      const progress = document.createElement('progress');\n",
              "      progress.max = size;\n",
              "      div.appendChild(progress);\n",
              "      document.body.appendChild(div);\n",
              "\n",
              "      const buffers = [];\n",
              "      let downloaded = 0;\n",
              "\n",
              "      const channel = await google.colab.kernel.comms.open(id);\n",
              "      // Send a message to notify the kernel that we're ready.\n",
              "      channel.send({})\n",
              "\n",
              "      for await (const message of channel.messages) {\n",
              "        // Send a message to notify the kernel that we're ready.\n",
              "        channel.send({})\n",
              "        if (message.buffers) {\n",
              "          for (const buffer of message.buffers) {\n",
              "            buffers.push(buffer);\n",
              "            downloaded += buffer.byteLength;\n",
              "            progress.value = downloaded;\n",
              "          }\n",
              "        }\n",
              "      }\n",
              "      const blob = new Blob(buffers, {type: 'application/binary'});\n",
              "      const a = document.createElement('a');\n",
              "      a.href = window.URL.createObjectURL(blob);\n",
              "      a.download = filename;\n",
              "      div.appendChild(a);\n",
              "      a.click();\n",
              "      div.remove();\n",
              "    }\n",
              "  "
            ]
          },
          "metadata": {}
        },
        {
          "output_type": "display_data",
          "data": {
            "text/plain": [
              "<IPython.core.display.Javascript object>"
            ],
            "application/javascript": [
              "download(\"download_e0a7c875-3683-400e-9893-bf6c3c2e4e2b\", \"credit_cards.xlsx\", 4784)"
            ]
          },
          "metadata": {}
        },
        {
          "output_type": "display_data",
          "data": {
            "text/plain": [
              "<IPython.core.display.Javascript object>"
            ],
            "application/javascript": [
              "\n",
              "    async function download(id, filename, size) {\n",
              "      if (!google.colab.kernel.accessAllowed) {\n",
              "        return;\n",
              "      }\n",
              "      const div = document.createElement('div');\n",
              "      const label = document.createElement('label');\n",
              "      label.textContent = `Downloading \"${filename}\": `;\n",
              "      div.appendChild(label);\n",
              "      const progress = document.createElement('progress');\n",
              "      progress.max = size;\n",
              "      div.appendChild(progress);\n",
              "      document.body.appendChild(div);\n",
              "\n",
              "      const buffers = [];\n",
              "      let downloaded = 0;\n",
              "\n",
              "      const channel = await google.colab.kernel.comms.open(id);\n",
              "      // Send a message to notify the kernel that we're ready.\n",
              "      channel.send({})\n",
              "\n",
              "      for await (const message of channel.messages) {\n",
              "        // Send a message to notify the kernel that we're ready.\n",
              "        channel.send({})\n",
              "        if (message.buffers) {\n",
              "          for (const buffer of message.buffers) {\n",
              "            buffers.push(buffer);\n",
              "            downloaded += buffer.byteLength;\n",
              "            progress.value = downloaded;\n",
              "          }\n",
              "        }\n",
              "      }\n",
              "      const blob = new Blob(buffers, {type: 'application/binary'});\n",
              "      const a = document.createElement('a');\n",
              "      a.href = window.URL.createObjectURL(blob);\n",
              "      a.download = filename;\n",
              "      div.appendChild(a);\n",
              "      a.click();\n",
              "      div.remove();\n",
              "    }\n",
              "  "
            ]
          },
          "metadata": {}
        },
        {
          "output_type": "display_data",
          "data": {
            "text/plain": [
              "<IPython.core.display.Javascript object>"
            ],
            "application/javascript": [
              "download(\"download_cddbf645-7648-45ea-9fba-cfcc9a627366\", \"credit_cards.csv\", 7)"
            ]
          },
          "metadata": {}
        }
      ]
    }
  ]
}